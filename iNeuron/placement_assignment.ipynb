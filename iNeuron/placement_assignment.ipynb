{
 "cells": [
  {
   "cell_type": "markdown",
   "id": "c91ca3e8",
   "metadata": {},
   "source": [
    "## 1. Create a function in python to read the text file and replace specific content of the file."
   ]
  },
  {
   "cell_type": "code",
   "execution_count": 1,
   "id": "75aa638b",
   "metadata": {},
   "outputs": [],
   "source": [
    "def replace_text(data, original, replacement):\n",
    "    '''\n",
    "        Returns the new updated string after replacing\n",
    "        original string in data to replacement string \n",
    "        \n",
    "        @args: \n",
    "        data: str \n",
    "        original: str\n",
    "        replacement: str\n",
    "    '''\n",
    "    return data.replace(original, replacement)"
   ]
  },
  {
   "cell_type": "code",
   "execution_count": 2,
   "id": "b5398074",
   "metadata": {},
   "outputs": [],
   "source": [
    "def read_file(file_name):\n",
    "    '''\n",
    "        read file and return the data of the file \n",
    "    '''\n",
    "    file_pointer = open(file_name, 'r+')\n",
    "    data = file_pointer.read()\n",
    "    file_pointer.close()\n",
    "    return data "
   ]
  },
  {
   "cell_type": "code",
   "execution_count": 3,
   "id": "035d058b",
   "metadata": {},
   "outputs": [],
   "source": [
    "def write_file(file_name, content):\n",
    "    '''\n",
    "        write the given content to the file\n",
    "    '''\n",
    "    file_pointer = open(file_name, 'w+')\n",
    "    file_pointer.write(content)\n",
    "    file_pointer.close()\n",
    "    return True "
   ]
  },
  {
   "cell_type": "code",
   "execution_count": 4,
   "id": "1d8ee65c",
   "metadata": {},
   "outputs": [],
   "source": [
    "def assignment():\n",
    "    file_name = input(\"Please enter the file name\")\n",
    "    original_text = input('What text would you like to replace?')\n",
    "    replacement_text = input('What would you like to replace the original text with?')\n",
    "    # execute the flow \n",
    "    content = read_file(file_name)\n",
    "    # replace text \n",
    "    new_content = replace_text(content, original_text, replacement_text)\n",
    "    write_file(file_name, new_content)\n",
    "    return '{0} replaced successfully with {1} in {2}'.format(original_text, replacement_text, file_name)\n"
   ]
  },
  {
   "cell_type": "code",
   "execution_count": 10,
   "id": "4b6c04e8",
   "metadata": {},
   "outputs": [],
   "source": [
    "def setup_example():\n",
    "    write_file('example.txt', 'This is a placement assignment')\n"
   ]
  },
  {
   "cell_type": "code",
   "execution_count": 11,
   "id": "c95dfe01",
   "metadata": {},
   "outputs": [],
   "source": [
    "def run_example():\n",
    "    print(assignment())"
   ]
  },
  {
   "cell_type": "code",
   "execution_count": 12,
   "id": "bd36b370",
   "metadata": {},
   "outputs": [
    {
     "name": "stdin",
     "output_type": "stream",
     "text": [
      "Please enter the file name example.txt\n",
      "What text would you like to replace? placement\n",
      "What would you like to replace the original text with? screening\n"
     ]
    },
    {
     "name": "stdout",
     "output_type": "stream",
     "text": [
      "placement replaced successfully with screening in example.txt\n"
     ]
    }
   ],
   "source": [
    "setup_example()\n",
    "run_example()"
   ]
  },
  {
   "cell_type": "markdown",
   "id": "b2ee8b75",
   "metadata": {},
   "source": [
    "## 2. Demonstrate use of abstract class, multiple inheritance and decorator in python using examples."
   ]
  },
  {
   "cell_type": "markdown",
   "id": "c12abbcb-38e8-4fcb-91df-71e61110da96",
   "metadata": {},
   "source": [
    "### Demonstration of multiple inheritance using example"
   ]
  },
  {
   "cell_type": "code",
   "execution_count": 16,
   "id": "53641d05",
   "metadata": {},
   "outputs": [
    {
     "name": "stdout",
     "output_type": "stream",
     "text": [
      "writing code in java\n",
      "singing a classical song\n",
      "changed language to python\n",
      "changed style to rock\n"
     ]
    }
   ],
   "source": [
    "class Programmer:\n",
    "    \n",
    "    def __init__(self, language):\n",
    "        self.language = language \n",
    "    \n",
    "    def write_code(self):\n",
    "        print(\"writing code in {0}\".format(self.language))\n",
    "              \n",
    "    def change_language(self, lang):\n",
    "        self.language = lang\n",
    "        print(\"changed language to {0}\".format(self.language))\n",
    "    \n",
    "class Singer:\n",
    "              \n",
    "    def __init__(self, style):\n",
    "        self.style = style \n",
    "              \n",
    "    def sing_a_song(self):\n",
    "        print('singing a {0} song'.format(self.style))\n",
    "              \n",
    "    def change_style(self, style):\n",
    "        self.style = style \n",
    "        print('changed style to {0}'.format(self.style))\n",
    "    \n",
    "\n",
    "class Professional(Programmer, Singer):\n",
    "      def __init__(self, language, style):\n",
    "            Programmer.__init__(self, language)\n",
    "            Singer.__init__(self, style) # \n",
    "              \n",
    "pro = Professional(\"java\", \"classical\")\n",
    "pro.write_code()\n",
    "pro.sing_a_song()\n",
    "pro.change_language(\"python\") \n",
    "pro.change_style(\"rock\") "
   ]
  },
  {
   "cell_type": "markdown",
   "id": "71617dc6-4653-431b-ba3a-465bea25d0d8",
   "metadata": {},
   "source": [
    "### Demonstration of Abstraction in Python"
   ]
  },
  {
   "cell_type": "code",
   "execution_count": 21,
   "id": "ae932f88",
   "metadata": {},
   "outputs": [
    {
     "name": "stdout",
     "output_type": "stream",
     "text": [
      "Red\n",
      "None\n"
     ]
    }
   ],
   "source": [
    "from abc import ABC, abstractmethod\n",
    "\n",
    "class Fruit(ABC):\n",
    "    \"\"\"\n",
    "        Abstract class representing the common features \n",
    "        of Fruits \n",
    "    \"\"\"\n",
    "    @abstractmethod\n",
    "    def taste(self):\n",
    "        pass\n",
    "\n",
    "    @abstractmethod\n",
    "    def nutrients(self):\n",
    "        pass \n",
    "    \n",
    "    @abstractmethod\n",
    "    def color(self):\n",
    "        pass \n",
    "\n",
    "class Apple(Fruit):\n",
    "    \"\"\"\n",
    "        Concrete class overwriting the methods written \n",
    "        in the abstract class \n",
    "    \"\"\"\n",
    "    def taste(self):\n",
    "        print(\"sweet\")\n",
    "        \n",
    "    def nutrients(self):\n",
    "        print(\"Carbs, Vitamins, Energy, Minerals\")\n",
    "        \n",
    "    def color(self):\n",
    "        print(\"Red\")\n",
    "        \n",
    "apple = Apple()\n",
    "print(apple.color())"
   ]
  },
  {
   "cell_type": "markdown",
   "id": "4507b57f-309d-4820-890c-411eeb20d966",
   "metadata": {},
   "source": [
    "### Decorators in Python"
   ]
  },
  {
   "cell_type": "code",
   "execution_count": 25,
   "id": "6011b6d9",
   "metadata": {},
   "outputs": [
    {
     "name": "stdout",
     "output_type": "stream",
     "text": [
      "book\n"
     ]
    }
   ],
   "source": [
    "# wrap_it is a decorator  \n",
    "def wrap_it(func):\n",
    "    def pack(num):\n",
    "        if num == 1:\n",
    "            num = 2 \n",
    "        else: \n",
    "            num = 1 \n",
    "        return func(num)\n",
    "    return pack \n",
    "\n",
    "# using @ which is the syntax for creating decorators in Python \n",
    "@wrap_it\n",
    "def item(num):\n",
    "    inventory = {\n",
    "        1: \"book\",\n",
    "        2: \"card\"\n",
    "    }\n",
    "    return inventory[num] \n",
    "\n",
    "\n",
    "surprise_gift = item(2)\n",
    "print(surprise_gift)\n",
    "# should now return a book gift after decoration \n"
   ]
  },
  {
   "cell_type": "code",
   "execution_count": null,
   "id": "f68bd851",
   "metadata": {},
   "outputs": [],
   "source": []
  }
 ],
 "metadata": {
  "kernelspec": {
   "display_name": "Python 3 (ipykernel)",
   "language": "python",
   "name": "python3"
  },
  "language_info": {
   "codemirror_mode": {
    "name": "ipython",
    "version": 3
   },
   "file_extension": ".py",
   "mimetype": "text/x-python",
   "name": "python",
   "nbconvert_exporter": "python",
   "pygments_lexer": "ipython3",
   "version": "3.9.7"
  }
 },
 "nbformat": 4,
 "nbformat_minor": 5
}
