{
 "cells": [
  {
   "cell_type": "code",
   "execution_count": 5,
   "metadata": {},
   "outputs": [],
   "source": [
    "json_data = [{\n",
    "        \"name\": \"Tamanna\",\n",
    "        \"subject\": \"maths\",\n",
    "        \"max_marks\": 25,\n",
    "        \"marks_obtained\": 12,\n",
    "    },\n",
    "    {\n",
    "        \"name\": \"Rishabh\",\n",
    "        \"subject\": \"maths\",\n",
    "        \"max_marks\": 25,\n",
    "        \"marks_obtained\": 20\n",
    "    }\n",
    "\n",
    "]"
   ]
  },
  {
   "cell_type": "code",
   "execution_count": 14,
   "metadata": {},
   "outputs": [
    {
     "data": {
      "text/html": [
       "<div>\n",
       "<style scoped>\n",
       "    .dataframe tbody tr th:only-of-type {\n",
       "        vertical-align: middle;\n",
       "    }\n",
       "\n",
       "    .dataframe tbody tr th {\n",
       "        vertical-align: top;\n",
       "    }\n",
       "\n",
       "    .dataframe thead th {\n",
       "        text-align: right;\n",
       "    }\n",
       "</style>\n",
       "<table border=\"1\" class=\"dataframe\">\n",
       "  <thead>\n",
       "    <tr style=\"text-align: right;\">\n",
       "      <th></th>\n",
       "      <th>name</th>\n",
       "      <th>subject</th>\n",
       "      <th>max_marks</th>\n",
       "      <th>marks_obtained</th>\n",
       "    </tr>\n",
       "  </thead>\n",
       "  <tbody>\n",
       "    <tr>\n",
       "      <th>0</th>\n",
       "      <td>Tamanna</td>\n",
       "      <td>maths</td>\n",
       "      <td>25</td>\n",
       "      <td>12</td>\n",
       "    </tr>\n",
       "    <tr>\n",
       "      <th>1</th>\n",
       "      <td>Rishabh</td>\n",
       "      <td>maths</td>\n",
       "      <td>25</td>\n",
       "      <td>20</td>\n",
       "    </tr>\n",
       "  </tbody>\n",
       "</table>\n",
       "</div>"
      ],
      "text/plain": [
       "      name subject  max_marks  marks_obtained\n",
       "0  Tamanna   maths         25              12\n",
       "1  Rishabh   maths         25              20"
      ]
     },
     "execution_count": 14,
     "metadata": {},
     "output_type": "execute_result"
    }
   ],
   "source": [
    "import pandas as pd\n",
    "cols = [\"name\", \"subject\", \"max_marks\", \"marks_obtained\"]\n",
    "rows = [] \n",
    "for row in json_data:\n",
    "    tmp = [row[\"name\"], row[\"subject\"], row[\"max_marks\"], row[\"marks_obtained\"]] \n",
    "    rows.append(tmp) \n",
    "\n",
    "pd.DataFrame(rows, columns=cols)"
   ]
  },
  {
   "cell_type": "code",
   "execution_count": 18,
   "metadata": {},
   "outputs": [],
   "source": [
    "more_json_data = {\n",
    "    \"page\": 2,\n",
    "    \"per_page\": 6,\n",
    "    \"total\": 12,\n",
    "    \"total_pages\": 2,\n",
    "    \"data\": [\n",
    "        {\n",
    "            \"id\": 7,\n",
    "            \"email\": \"michael.lawson@reqres.in\",\n",
    "            \"first_name\": \"Michael\",\n",
    "            \"last_name\": \"Lawson\",\n",
    "            \"avatar\": \"https://reqres.in/img/faces/7-image.jpg\"\n",
    "        },\n",
    "        {\n",
    "            \"id\": 8,\n",
    "            \"email\": \"lindsay.ferguson@reqres.in\",\n",
    "            \"first_name\": \"Lindsay\",\n",
    "            \"last_name\": \"Ferguson\",\n",
    "            \"avatar\": \"https://reqres.in/img/faces/8-image.jpg\"\n",
    "        },\n",
    "        {\n",
    "            \"id\": 9,\n",
    "            \"email\": \"tobias.funke@reqres.in\",\n",
    "            \"first_name\": \"Tobias\",\n",
    "            \"last_name\": \"Funke\",\n",
    "            \"avatar\": \"https://reqres.in/img/faces/9-image.jpg\"\n",
    "        },\n",
    "        {\n",
    "            \"id\": 10,\n",
    "            \"email\": \"byron.fields@reqres.in\",\n",
    "            \"first_name\": \"Byron\",\n",
    "            \"last_name\": \"Fields\",\n",
    "            \"avatar\": \"https://reqres.in/img/faces/10-image.jpg\"\n",
    "        },\n",
    "        {\n",
    "            \"id\": 11,\n",
    "            \"email\": \"george.edwards@reqres.in\",\n",
    "            \"first_name\": \"George\",\n",
    "            \"last_name\": \"Edwards\",\n",
    "            \"avatar\": \"https://reqres.in/img/faces/11-image.jpg\"\n",
    "        },\n",
    "        {\n",
    "            \"id\": 12,\n",
    "            \"email\": \"rachel.howell@reqres.in\",\n",
    "            \"first_name\": \"Rachel\",\n",
    "            \"last_name\": \"Howell\",\n",
    "            \"avatar\": \"https://reqres.in/img/faces/12-image.jpg\"\n",
    "        }\n",
    "    ],\n",
    "    \"support\": {\n",
    "        \"url\": \"https://reqres.in/#support-heading\",\n",
    "        \"text\": \"To keep ReqRes free, contributions towards server costs are appreciated!\"\n",
    "    }\n",
    "}"
   ]
  },
  {
   "cell_type": "code",
   "execution_count": 22,
   "metadata": {},
   "outputs": [
    {
     "data": {
      "text/html": [
       "<div>\n",
       "<style scoped>\n",
       "    .dataframe tbody tr th:only-of-type {\n",
       "        vertical-align: middle;\n",
       "    }\n",
       "\n",
       "    .dataframe tbody tr th {\n",
       "        vertical-align: top;\n",
       "    }\n",
       "\n",
       "    .dataframe thead th {\n",
       "        text-align: right;\n",
       "    }\n",
       "</style>\n",
       "<table border=\"1\" class=\"dataframe\">\n",
       "  <thead>\n",
       "    <tr style=\"text-align: right;\">\n",
       "      <th></th>\n",
       "      <th>id</th>\n",
       "      <th>email</th>\n",
       "      <th>first_name</th>\n",
       "      <th>last_name</th>\n",
       "      <th>avatar</th>\n",
       "    </tr>\n",
       "  </thead>\n",
       "  <tbody>\n",
       "    <tr>\n",
       "      <th>0</th>\n",
       "      <td>7</td>\n",
       "      <td>michael.lawson@reqres.in</td>\n",
       "      <td>Michael</td>\n",
       "      <td>Lawson</td>\n",
       "      <td>https://reqres.in/img/faces/7-image.jpg</td>\n",
       "    </tr>\n",
       "    <tr>\n",
       "      <th>1</th>\n",
       "      <td>8</td>\n",
       "      <td>lindsay.ferguson@reqres.in</td>\n",
       "      <td>Lindsay</td>\n",
       "      <td>Ferguson</td>\n",
       "      <td>https://reqres.in/img/faces/8-image.jpg</td>\n",
       "    </tr>\n",
       "    <tr>\n",
       "      <th>2</th>\n",
       "      <td>9</td>\n",
       "      <td>tobias.funke@reqres.in</td>\n",
       "      <td>Tobias</td>\n",
       "      <td>Funke</td>\n",
       "      <td>https://reqres.in/img/faces/9-image.jpg</td>\n",
       "    </tr>\n",
       "    <tr>\n",
       "      <th>3</th>\n",
       "      <td>10</td>\n",
       "      <td>byron.fields@reqres.in</td>\n",
       "      <td>Byron</td>\n",
       "      <td>Fields</td>\n",
       "      <td>https://reqres.in/img/faces/10-image.jpg</td>\n",
       "    </tr>\n",
       "    <tr>\n",
       "      <th>4</th>\n",
       "      <td>11</td>\n",
       "      <td>george.edwards@reqres.in</td>\n",
       "      <td>George</td>\n",
       "      <td>Edwards</td>\n",
       "      <td>https://reqres.in/img/faces/11-image.jpg</td>\n",
       "    </tr>\n",
       "    <tr>\n",
       "      <th>5</th>\n",
       "      <td>12</td>\n",
       "      <td>rachel.howell@reqres.in</td>\n",
       "      <td>Rachel</td>\n",
       "      <td>Howell</td>\n",
       "      <td>https://reqres.in/img/faces/12-image.jpg</td>\n",
       "    </tr>\n",
       "  </tbody>\n",
       "</table>\n",
       "</div>"
      ],
      "text/plain": [
       "   id                       email first_name last_name  \\\n",
       "0   7    michael.lawson@reqres.in    Michael    Lawson   \n",
       "1   8  lindsay.ferguson@reqres.in    Lindsay  Ferguson   \n",
       "2   9      tobias.funke@reqres.in     Tobias     Funke   \n",
       "3  10      byron.fields@reqres.in      Byron    Fields   \n",
       "4  11    george.edwards@reqres.in     George   Edwards   \n",
       "5  12     rachel.howell@reqres.in     Rachel    Howell   \n",
       "\n",
       "                                     avatar  \n",
       "0   https://reqres.in/img/faces/7-image.jpg  \n",
       "1   https://reqres.in/img/faces/8-image.jpg  \n",
       "2   https://reqres.in/img/faces/9-image.jpg  \n",
       "3  https://reqres.in/img/faces/10-image.jpg  \n",
       "4  https://reqres.in/img/faces/11-image.jpg  \n",
       "5  https://reqres.in/img/faces/12-image.jpg  "
      ]
     },
     "execution_count": 22,
     "metadata": {},
     "output_type": "execute_result"
    }
   ],
   "source": [
    "import pandas as pd\n",
    "cols = [\"id\", \"email\", \"first_name\", \"last_name\", \"avatar\"]\n",
    "rows = [] \n",
    "required_data = more_json_data[\"data\"]\n",
    "for row in required_data:\n",
    "    tmp = [row[\"id\"], row[\"email\"], row[\"first_name\"], row[\"last_name\"], row[\"avatar\"]] \n",
    "    rows.append(tmp) \n",
    "\n",
    "pd.DataFrame(rows, columns=cols)"
   ]
  },
  {
   "cell_type": "code",
   "execution_count": 24,
   "metadata": {},
   "outputs": [],
   "source": [
    "student = {\n",
    "    \"name\": \"tamanna\",\n",
    "    \"profession\": \"Data Science\",\n",
    "    \"age\": 26,\n",
    "    \"cars\": [\n",
    "        \"BMW\", \"Hyundi\"\n",
    "    ],\n",
    "    \"schedule\": {\n",
    "        \"monday\": \"coding\",\n",
    "        \"tuesday\": \"blogging\",\n",
    "        \"wednesday\": \"githubbing\",\n",
    "        \"thursday\": \"kaggling\",\n",
    "        \"friday\": \"creating\"\n",
    "    }\n",
    "}"
   ]
  },
  {
   "cell_type": "code",
   "execution_count": 26,
   "metadata": {},
   "outputs": [],
   "source": [
    "tamanna_schedule = student['schedule']"
   ]
  },
  {
   "cell_type": "code",
   "execution_count": 27,
   "metadata": {},
   "outputs": [
    {
     "data": {
      "text/plain": [
       "{'monday': 'coding',\n",
       " 'tuesday': 'blogging',\n",
       " 'wednesday': 'githubbing',\n",
       " 'thursday': 'kaggling',\n",
       " 'friday': 'creating'}"
      ]
     },
     "execution_count": 27,
     "metadata": {},
     "output_type": "execute_result"
    }
   ],
   "source": [
    "tamanna_schedule"
   ]
  },
  {
   "cell_type": "code",
   "execution_count": 30,
   "metadata": {},
   "outputs": [],
   "source": [
    "tamanna_wed = tamanna_schedule['wednesday']"
   ]
  },
  {
   "cell_type": "code",
   "execution_count": 29,
   "metadata": {},
   "outputs": [
    {
     "data": {
      "text/plain": [
       "'githubbing'"
      ]
     },
     "execution_count": 29,
     "metadata": {},
     "output_type": "execute_result"
    }
   ],
   "source": [
    "tamanna_wed"
   ]
  },
  {
   "cell_type": "code",
   "execution_count": 31,
   "metadata": {},
   "outputs": [],
   "source": [
    "tamanna_fri = student['schedule']['friday']"
   ]
  },
  {
   "cell_type": "code",
   "execution_count": 32,
   "metadata": {},
   "outputs": [
    {
     "data": {
      "text/plain": [
       "'creating'"
      ]
     },
     "execution_count": 32,
     "metadata": {},
     "output_type": "execute_result"
    }
   ],
   "source": [
    "tamanna_fri"
   ]
  },
  {
   "cell_type": "code",
   "execution_count": null,
   "metadata": {},
   "outputs": [],
   "source": []
  }
 ],
 "metadata": {
  "kernelspec": {
   "display_name": "Python 3",
   "language": "python",
   "name": "python3"
  },
  "language_info": {
   "codemirror_mode": {
    "name": "ipython",
    "version": 3
   },
   "file_extension": ".py",
   "mimetype": "text/x-python",
   "name": "python",
   "nbconvert_exporter": "python",
   "pygments_lexer": "ipython3",
   "version": "3.8.5"
  }
 },
 "nbformat": 4,
 "nbformat_minor": 4
}
